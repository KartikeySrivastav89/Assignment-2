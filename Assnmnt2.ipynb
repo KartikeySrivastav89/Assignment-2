{
 "cells": [
  {
   "cell_type": "code",
   "execution_count": 9,
   "id": "b3cf3c1a-bc07-4c0d-a9a4-cde74d6905a4",
   "metadata": {},
   "outputs": [
    {
     "name": "stdin",
     "output_type": "stream",
     "text": [
      "Enter the percentage here 90\n"
     ]
    },
    {
     "name": "stdout",
     "output_type": "stream",
     "text": [
      "B\n"
     ]
    }
   ],
   "source": [
    "\"\"\"Ques No 1\"\"\"\n",
    "\n",
    "marks = int(input(\"Enter the percentage here\"))\n",
    "if marks > 90:\n",
    "    print(\"A\")\n",
    "elif marks > 80 and marks <= 90:\n",
    "    print(\"B\")\n",
    "elif marks >= 60 and marks <= 80:\n",
    "    print(\"C\")\n",
    "else:\n",
    "    print(\"D\")"
   ]
  },
  {
   "cell_type": "code",
   "execution_count": 8,
   "id": "fab40960-33f9-4230-ab59-380911bfcb88",
   "metadata": {},
   "outputs": [
    {
     "name": "stdin",
     "output_type": "stream",
     "text": [
      "Enter the cost price here 100001\n"
     ]
    },
    {
     "name": "stdout",
     "output_type": "stream",
     "text": [
      "15000.15\n"
     ]
    }
   ],
   "source": [
    "\"\"\"Ques No 2\"\"\"\n",
    "\n",
    "cost_price = int(input(\"Enter the cost price here\"))\n",
    "if cost_price > 100000:\n",
    "    print(15*cost_price/100)\n",
    "elif cost_price > 50000 and cost_price <= 100000:\n",
    "    print(10*cost_price/100)\n",
    "else:\n",
    "    print(5*cost_price/100)"
   ]
  },
  {
   "cell_type": "code",
   "execution_count": 9,
   "id": "6085c37d-d566-4121-a409-e10322010c43",
   "metadata": {},
   "outputs": [
    {
     "name": "stdin",
     "output_type": "stream",
     "text": [
      "Enter the city name delhi\n"
     ]
    },
    {
     "name": "stdout",
     "output_type": "stream",
     "text": [
      "Red fort\n"
     ]
    }
   ],
   "source": [
    "\"\"\"Ques No 3\"\"\"\n",
    "# Cities name should be Delhi,Agra,Jaipur Otherwise it will give blank\n",
    "\n",
    "\n",
    "city = str(input(\"Enter the city name\"))\n",
    "if city == \"Delhi\" or city == \"delhi\":\n",
    "    print(\"Red fort\")\n",
    "elif city == \"Agra\" or city == \"agra\":\n",
    "    print(\"Taj Mahal\")\n",
    "elif city == \"Jaipur\" or city == \"jaipur\":\n",
    "    print(\"Jal Mahal\")\n",
    "else:\n",
    "    print(\" \")"
   ]
  },
  {
   "cell_type": "code",
   "execution_count": 4,
   "id": "2d8e974c-37db-4cf6-820c-3fc5302d86e1",
   "metadata": {},
   "outputs": [
    {
     "name": "stdin",
     "output_type": "stream",
     "text": [
      "Enter the Value 99\n"
     ]
    },
    {
     "name": "stdout",
     "output_type": "stream",
     "text": [
      "2\n"
     ]
    }
   ],
   "source": [
    "\"\"\"Ques No 4\"\"\"\n",
    "\n",
    "i = int(input(\"Enter the Value\"))\n",
    "count = 0\n",
    "while i/3>=10:\n",
    "    i = i/3\n",
    "    count = count+1\n",
    "print(count)"
   ]
  },
  {
   "cell_type": "code",
   "execution_count": 5,
   "id": "ecdee7df-e5c5-40bb-9428-0dcb5c088dba",
   "metadata": {},
   "outputs": [
    {
     "name": "stdin",
     "output_type": "stream",
     "text": [
      "Enter the Value 99\n"
     ]
    },
    {
     "name": "stdout",
     "output_type": "stream",
     "text": [
      "2\n"
     ]
    }
   ],
   "source": [
    "\"\"\"Ques No 5\n",
    "    \n",
    "     Ans: Python while loop is used to run a block code until a certain condition is met. Here, A while loop evaluates the condition.\n",
    "          If the condition evaluates to True , the code inside the while loop is executed.\n",
    "\"\"\"\n",
    "\n",
    "\"\"\"Example\"\"\"\n",
    "\n",
    "i = int(input(\"Enter the Value\"))\n",
    "count = 0\n",
    "while i/3>=10:\n",
    "    i = i/3\n",
    "    count = count+1\n",
    "print(count)"
   ]
  },
  {
   "cell_type": "code",
   "execution_count": 13,
   "id": "59250a66-bedc-49b0-8e9f-77a51f08bd0b",
   "metadata": {},
   "outputs": [
    {
     "name": "stdin",
     "output_type": "stream",
     "text": [
      "Enter the number 5\n"
     ]
    },
    {
     "name": "stdout",
     "output_type": "stream",
     "text": [
      "* \n",
      "* * \n",
      "* * * \n",
      "* * * * \n",
      "* * * * * \n"
     ]
    }
   ],
   "source": [
    "\"\"\"Ques No 6\"\"\"\n",
    "n = int(input(\"Enter the number\"))\n",
    "i =0\n",
    "while i <n:\n",
    "    i = i+1\n",
    "    j=1\n",
    "    while j<=i:\n",
    "        print(\"*\",end=\" \")\n",
    "        j=j+1\n",
    "    print()"
   ]
  },
  {
   "cell_type": "code",
   "execution_count": 20,
   "id": "1ae2c252-f34c-4f22-a602-6d0b75d75445",
   "metadata": {},
   "outputs": [
    {
     "name": "stdin",
     "output_type": "stream",
     "text": [
      "Enter the number 5\n"
     ]
    },
    {
     "name": "stdout",
     "output_type": "stream",
     "text": [
      "* * * * * \n",
      "* * * * \n",
      "* * * \n",
      "* * \n",
      "* \n",
      "\n"
     ]
    }
   ],
   "source": [
    "i = 0\n",
    "n = int(input(\"Enter the number\"))\n",
    "while i<=n:\n",
    "    i=i+1\n",
    "    j=n\n",
    "    while j>=i:\n",
    "        print(\"*\",end=\" \")\n",
    "        j=j-1\n",
    "    print()"
   ]
  },
  {
   "cell_type": "code",
   "execution_count": 2,
   "id": "645e5926-b849-45ef-a861-a41de0ab13cd",
   "metadata": {},
   "outputs": [
    {
     "name": "stdout",
     "output_type": "stream",
     "text": [
      "* \n",
      "* * \n",
      "* * * \n",
      "* * * * \n",
      "* * * * * \n",
      "* * * * * * \n",
      "* * * * * \n",
      "* * * * \n",
      "* * * \n",
      "* * \n",
      "* \n",
      "\n"
     ]
    }
   ],
   "source": [
    "i =0\n",
    "while i <=5:\n",
    "    i = i+1\n",
    "    j=1\n",
    "    while j<=i:\n",
    "        print(\"*\",end=\" \")\n",
    "        j=j+1\n",
    "    print()\n",
    "i = 0\n",
    "n=5\n",
    "while i<=5:\n",
    "    i=i+1\n",
    "    j=n\n",
    "    while j>=i:\n",
    "        print(\"*\",end=\" \")\n",
    "        j=j-1\n",
    "    print()"
   ]
  },
  {
   "cell_type": "code",
   "execution_count": 5,
   "id": "87ab5f63-a4aa-47e7-9fe9-82fa73a53b3b",
   "metadata": {},
   "outputs": [
    {
     "name": "stdout",
     "output_type": "stream",
     "text": [
      "10\n",
      "9\n",
      "8\n",
      "7\n",
      "6\n",
      "5\n",
      "4\n",
      "3\n",
      "2\n",
      "1\n"
     ]
    }
   ],
   "source": [
    "\"\"\"Ques No 7\"\"\"\n",
    "\n",
    "n = 10\n",
    "count = 1\n",
    "while n >=count:\n",
    "    print(n)\n",
    "    n = n-1"
   ]
  },
  {
   "cell_type": "code",
   "execution_count": 6,
   "id": "53868ce5-c94c-4c37-b109-bac6a18b255d",
   "metadata": {},
   "outputs": [
    {
     "name": "stdout",
     "output_type": "stream",
     "text": [
      "10\n",
      "9\n",
      "8\n",
      "7\n",
      "6\n",
      "5\n",
      "4\n",
      "3\n",
      "2\n",
      "1\n"
     ]
    }
   ],
   "source": [
    "\"\"\"Ques No 8\"\"\"\n",
    "\n",
    "n = 10\n",
    "count = 1\n",
    "while n >=count:\n",
    "    print(n)\n",
    "    n = n-1"
   ]
  },
  {
   "cell_type": "code",
   "execution_count": null,
   "id": "970546c7-13b2-4c91-94c9-4d527317bf6f",
   "metadata": {},
   "outputs": [],
   "source": []
  }
 ],
 "metadata": {
  "kernelspec": {
   "display_name": "Python 3 (ipykernel)",
   "language": "python",
   "name": "python3"
  },
  "language_info": {
   "codemirror_mode": {
    "name": "ipython",
    "version": 3
   },
   "file_extension": ".py",
   "mimetype": "text/x-python",
   "name": "python",
   "nbconvert_exporter": "python",
   "pygments_lexer": "ipython3",
   "version": "3.10.6"
  }
 },
 "nbformat": 4,
 "nbformat_minor": 5
}
